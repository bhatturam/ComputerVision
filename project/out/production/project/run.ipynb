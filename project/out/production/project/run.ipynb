{
 "cells": [
  {
   "cell_type": "markdown",
   "metadata": {},
   "source": [
    "# H02A5A Computer Vision Project - Incisor Segmentation\n",
    "\n",
    "## Imports"
   ]
  },
  {
   "cell_type": "code",
   "execution_count": null,
   "metadata": {
    "collapsed": false
   },
   "outputs": [],
   "source": [
    "%matplotlib inline\n",
    "import numpy as np\n",
    "import cv2\n",
    "from incisorseg.dataset import Dataset\n",
    "from incisorseg.utils import *\n",
    "from asm.shape import Shape\n",
    "from asm.shapemodel import ShapeModel\n",
    "from asm.greymodel import GreyModel"
   ]
  },
  {
   "cell_type": "markdown",
   "metadata": {},
   "source": [
    "## Reading the dataset"
   ]
  },
  {
   "cell_type": "code",
   "execution_count": null,
   "metadata": {
    "collapsed": false
   },
   "outputs": [],
   "source": [
    "data = Dataset('../../data/')"
   ]
  },
  {
   "cell_type": "markdown",
   "metadata": {},
   "source": [
    "## Sample plots"
   ]
  },
  {
   "cell_type": "code",
   "execution_count": null,
   "metadata": {
    "collapsed": false
   },
   "outputs": [],
   "source": [
    "img,mimg = data.get_training_images([0])\n",
    "l,ml = data.get_training_image_landmarks([0],Dataset.ALL_TEETH)\n",
    "lc,mlc = data.get_training_image_landmarks([0],Dataset.ALL_TEETH,True)\n",
    "plot_shapes(lc)\n",
    "imshow2(overlay_shapes_on_image(img[0],lc))\n",
    "plot_shapes(mlc)\n",
    "imshow2(overlay_shapes_on_image(mimg[0],mlc))\n",
    "print img[0].shape"
   ]
  },
  {
   "cell_type": "markdown",
   "metadata": {},
   "source": [
    "## Shape Model\n",
    "All 8 teeth"
   ]
  },
  {
   "cell_type": "code",
   "execution_count": null,
   "metadata": {
    "collapsed": false
   },
   "outputs": [],
   "source": [
    "lc,mlc = data.get_training_image_landmarks(Dataset.ALL_TRAINING_IMAGES,Dataset.ALL_TEETH,True)\n",
    "landmarks = lc + mlc\n",
    "model = ShapeModel(landmarks)\n",
    "plot_shapes(model.aligned_shapes())\n",
    "#plot_shapes([model.mean_shape()])\n",
    "plot_shapes(model.mode_shapes(1))\n",
    "plot_shapes(model.mode_shapes(2))\n",
    "plot_shapes(model.mode_shapes(3))"
   ]
  },
  {
   "cell_type": "markdown",
   "metadata": {},
   "source": [
    "### Some edge detection and pyramids"
   ]
  },
  {
   "cell_type": "code",
   "execution_count": null,
   "metadata": {
    "collapsed": false
   },
   "outputs": [],
   "source": [
    "sample = cv2.pyrDown(cv2.pyrDown(data.get_extra_images([0])[0]))#[650:1300,1200:1800]\n",
    "imshow2(cv2.Laplacian(cv2.bilateralFilter(sample,5,30,30),2))\n",
    "imshow2(cv2.morphologyEx(cv2.Canny(cv2.bilateralFilter(sample,9,30,30),20,20),cv2.MORPH_CLOSE, cv2.getStructuringElement(cv2.MORPH_ELLIPSE,(20,20))))\n",
    "imshow2(cv2.Canny(cv2.bilateralFilter(sample,5,30,30),10,20))"
   ]
  },
  {
   "cell_type": "markdown",
   "metadata": {},
   "source": [
    "#### Shape normals"
   ]
  },
  {
   "cell_type": "markdown",
   "metadata": {},
   "source": [
    "#### Grey Level pixels for the shape normals"
   ]
  },
  {
   "cell_type": "code",
   "execution_count": null,
   "metadata": {
    "collapsed": false
   },
   "outputs": [],
   "source": [
    "img,mimg = data.get_training_images(Dataset.ALL_TRAINING_IMAGES)\n",
    "l,ml = data.get_training_image_landmarks(Dataset.ALL_TRAINING_IMAGES,Dataset.ALL_TEETH,combine=True)\n",
    "images = img + mimg\n",
    "shapes = l+ml\n",
    "greymodel = GreyModel(images,shapes,number_of_pixels=30)\n",
    "img = np.uint8([np.round(greymodel.getModel(point_index).mean()) for point_index in range(greymodel.size())])\n",
    "imshow2(img,width=24,height=24)"
   ]
  },
  {
   "cell_type": "markdown",
   "metadata": {},
   "source": [
    "#### Fun with pyramids"
   ]
  },
  {
   "cell_type": "code",
   "execution_count": null,
   "metadata": {
    "collapsed": false
   },
   "outputs": [],
   "source": [
    "pimg = images[0]\n",
    "shape = shapes[0]\n",
    "for i in range(7):\n",
    "    imshow2(overlay_shapes_on_image(pimg,[shape]))\n",
    "    plot_shapes([shape])\n",
    "    pimg = cv2.pyrDown(pimg)\n",
    "    shape = shape.pyr_down()"
   ]
  },
  {
   "cell_type": "code",
   "execution_count": null,
   "metadata": {
    "collapsed": false
   },
   "outputs": [],
   "source": []
  }
 ],
 "metadata": {
  "kernelspec": {
   "display_name": "Python 2",
   "language": "python",
   "name": "python2"
  },
  "language_info": {
   "codemirror_mode": {
    "name": "ipython",
    "version": 2
   },
   "file_extension": ".py",
   "mimetype": "text/x-python",
   "name": "python",
   "nbconvert_exporter": "python",
   "pygments_lexer": "ipython2",
   "version": "2.7.11+"
  }
 },
 "nbformat": 4,
 "nbformat_minor": 0
}
